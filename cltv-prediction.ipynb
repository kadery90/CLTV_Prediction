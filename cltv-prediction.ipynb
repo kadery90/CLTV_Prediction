{
 "metadata": {
  "kernelspec": {
   "language": "python",
   "display_name": "Python 3",
   "name": "python3"
  },
  "language_info": {
   "pygments_lexer": "ipython3",
   "nbconvert_exporter": "python",
   "version": "3.6.4",
   "file_extension": ".py",
   "codemirror_mode": {
    "name": "ipython",
    "version": 3
   },
   "name": "python",
   "mimetype": "text/x-python"
  }
 },
 "nbformat_minor": 4,
 "nbformat": 4,
 "cells": [
  {
   "cell_type": "code",
   "source": [
    "# This Python 3 environment comes with many helpful analytics libraries installed\n",
    "# It is defined by the kaggle/python Docker image: https://github.com/kaggle/docker-python\n",
    "# For example, here's several helpful packages to load\n",
    "\n",
    "import numpy as np # linear algebra\n",
    "import pandas as pd # data processing, CSV file I/O (e.g. pd.read_csv)\n",
    "\n",
    "# Input data files are available in the read-only \"../input/\" directory\n",
    "# For example, running this (by clicking run or pressing Shift+Enter) will list all files under the input directory\n",
    "\n",
    "import os\n",
    "for dirname, _, filenames in os.walk('/kaggle/input'):\n",
    "    for filename in filenames:\n",
    "        print(os.path.join(dirname, filename))\n",
    "\n",
    "# You can write up to 20GB to the current directory (/kaggle/working/) that gets preserved as output when you create a version using \"Save & Run All\" \n",
    "# You can also write temporary files to /kaggle/temp/, but they won't be saved outside of the current session\n",
    "\n",
    "!pip install lifetimes"
   ],
   "metadata": {
    "_uuid": "4ed405d0-99a7-420a-85b8-612a8c2a9acd",
    "_cell_guid": "f1e18df7-dd52-4fce-a6d2-8782e6c07dc4",
    "collapsed": false,
    "execution": {
     "iopub.status.busy": "2022-01-16T13:34:42.569736Z",
     "iopub.execute_input": "2022-01-16T13:34:42.570461Z",
     "iopub.status.idle": "2022-01-16T13:34:51.703656Z",
     "shell.execute_reply.started": "2022-01-16T13:34:42.57039Z",
     "shell.execute_reply": "2022-01-16T13:34:51.702482Z"
    },
    "jupyter": {
     "outputs_hidden": false
    },
    "trusted": true
   },
   "execution_count": null,
   "outputs": []
  },
  {
   "cell_type": "markdown",
   "source": [],
   "metadata": {
    "collapsed": false
   }
  },
  {
   "cell_type": "code",
   "source": [
    "from sqlalchemy import create_engine\n",
    "import datetime as dt\n",
    "import pandas as pd\n",
    "import matplotlib.pyplot as plt\n",
    "from lifetimes import BetaGeoFitter\n",
    "from lifetimes import GammaGammaFitter\n",
    "from lifetimes.plotting import plot_period_transactions\n",
    "\n",
    "pd.set_option('display.max_columns', None)\n",
    "pd.set_option('display.width', 500)\n",
    "pd.set_option('display.float_format', lambda x: '%.4f' % x)\n",
    "from sklearn.preprocessing import MinMaxScaler\n",
    "\n",
    "!pip install openpyxl"
   ],
   "metadata": {
    "_uuid": "4f4985c8-15fb-4111-b3d2-7a3983f5f667",
    "_cell_guid": "bc041894-b157-4b0f-99b6-59a8bf08b784",
    "collapsed": false,
    "jupyter": {
     "outputs_hidden": false
    },
    "trusted": true
   },
   "execution_count": null,
   "outputs": []
  },
  {
   "cell_type": "code",
   "source": "def outlier_thresholds(dataframe, variable):\n    quartile1 = dataframe[variable].quantile(0.01)\n    quartile3 = dataframe[variable].quantile(0.99)\n    interquantile_range = quartile3 - quartile1\n    up_limit = quartile3 + 1.5 * interquantile_range\n    low_limit = quartile1 - 1.5 * interquantile_range\n    return low_limit, up_limit\n\ndef replace_with_thresholds(dataframe, variable):\n    low_limit, up_limit = outlier_thresholds(dataframe, variable)\n    dataframe.loc[(dataframe[variable] < low_limit), variable] = low_limit\n    dataframe.loc[(dataframe[variable] > up_limit), variable] = up_limit",
   "metadata": {
    "_uuid": "cbf0d298-c6a6-4c0f-9f45-f1fe6bb7eba3",
    "_cell_guid": "69f299ff-011e-4059-9ad0-407cc84c1cf2",
    "collapsed": false,
    "execution": {
     "iopub.status.busy": "2022-01-16T13:35:07.584066Z",
     "iopub.execute_input": "2022-01-16T13:35:07.584633Z",
     "iopub.status.idle": "2022-01-16T13:35:07.593062Z",
     "shell.execute_reply.started": "2022-01-16T13:35:07.584596Z",
     "shell.execute_reply": "2022-01-16T13:35:07.591992Z"
    },
    "jupyter": {
     "outputs_hidden": false
    },
    "trusted": true
   },
   "execution_count": null,
   "outputs": []
  },
  {
   "cell_type": "code",
   "source": "df = pd.read_excel(\"../input/onlineretail1011/onlineretail1011.xlsx\")",
   "metadata": {
    "_uuid": "4c0892a6-651d-4744-baf1-3cc401253dfc",
    "_cell_guid": "e4ae464f-26d8-419b-9b15-5b0aae708d9a",
    "collapsed": false,
    "execution": {
     "iopub.status.busy": "2022-01-16T13:36:28.566616Z",
     "iopub.execute_input": "2022-01-16T13:36:28.566984Z",
     "iopub.status.idle": "2022-01-16T13:37:58.92096Z",
     "shell.execute_reply.started": "2022-01-16T13:36:28.56695Z",
     "shell.execute_reply": "2022-01-16T13:37:58.920246Z"
    },
    "jupyter": {
     "outputs_hidden": false
    },
    "trusted": true
   },
   "execution_count": null,
   "outputs": []
  },
  {
   "cell_type": "code",
   "source": "uk_df = df[(df[\"Country\"] == \"United Kingdom\")]\nuk_df.head()\nuk_df.describe().T",
   "metadata": {
    "_uuid": "1dbe690e-40b0-476b-b812-cac28fef00d5",
    "_cell_guid": "6a481467-ef32-4fff-999b-0aa584701a7d",
    "collapsed": false,
    "jupyter": {
     "outputs_hidden": false
    },
    "trusted": true
   },
   "execution_count": null,
   "outputs": []
  },
  {
   "cell_type": "code",
   "source": "uk_df.dropna(inplace=True)\nuk_df = uk_df[~uk_df[\"Invoice\"].str.contains(\"C\", na=False)]\nuk_df = uk_df[uk_df[\"Quantity\"] > 0]\nuk_df = uk_df[uk_df[\"Price\"] > 0]\n\nreplace_with_thresholds(uk_df, \"Quantity\")\nreplace_with_thresholds(uk_df, \"Price\")\n\nuk_df[\"TotalPrice\"] = uk_df[\"Quantity\"] * uk_df[\"Price\"]\n\ntoday_date = dt.datetime(2011, 12, 11)\n\nuk_df.describe().T",
   "metadata": {
    "_uuid": "910c4fad-6391-40b2-988c-e167d096609f",
    "_cell_guid": "889fd3b3-b2f2-432c-b963-8ae2efcfbf16",
    "collapsed": false,
    "jupyter": {
     "outputs_hidden": false
    },
    "trusted": true
   },
   "execution_count": null,
   "outputs": []
  },
  {
   "cell_type": "code",
   "source": "cltv_df = uk_df.groupby('Customer ID').agg({'InvoiceDate': [lambda date: (date.max() - date.min()).days,\n                                                         lambda date: (today_date - date.min()).days],\n                                         'Invoice': lambda num: num.nunique(),\n                                         'TotalPrice': lambda TotalPrice: TotalPrice.sum()})",
   "metadata": {
    "_uuid": "54c67b31-b4d1-4486-bc20-3b5cb525f6d1",
    "_cell_guid": "c2a22d35-7803-4d1f-b43d-480efbc45dbb",
    "collapsed": false,
    "jupyter": {
     "outputs_hidden": false
    },
    "trusted": true
   },
   "execution_count": null,
   "outputs": []
  },
  {
   "cell_type": "code",
   "source": "cltv_df.columns = cltv_df.columns.droplevel(0)\ncltv_df.columns = ['recency', 'T', 'frequency', 'monetary']\n\ncltv_df[\"monetary\"] = cltv_df[\"monetary\"] / cltv_df[\"frequency\"]\n\ncltv_df = cltv_df[(cltv_df['frequency'] > 1)]\n\ncltv_df[\"recency\"] = cltv_df[\"recency\"] / 7\n\ncltv_df[\"T\"] = cltv_df[\"T\"] / 7",
   "metadata": {
    "_uuid": "ca902b1d-8788-434d-ad02-9d9b3f1e4023",
    "_cell_guid": "163a271c-dac2-4290-a2f6-2ea7704ff481",
    "collapsed": false,
    "execution": {
     "iopub.status.busy": "2022-01-16T13:43:47.896102Z",
     "iopub.execute_input": "2022-01-16T13:43:47.896404Z",
     "iopub.status.idle": "2022-01-16T13:43:47.944528Z",
     "shell.execute_reply.started": "2022-01-16T13:43:47.896371Z",
     "shell.execute_reply": "2022-01-16T13:43:47.943389Z"
    },
    "jupyter": {
     "outputs_hidden": false
    },
    "trusted": true
   },
   "execution_count": null,
   "outputs": []
  },
  {
   "cell_type": "code",
   "source": "bgf = BetaGeoFitter(penalizer_coef=0.001)\n\nbgf.fit(cltv_df['frequency'],\n        cltv_df['recency'],\n        cltv_df['T'])",
   "metadata": {
    "_uuid": "afe163dd-bcc0-48b5-b2c8-cdb170343bfa",
    "_cell_guid": "380cc929-8891-48f2-ad8a-a8c1a73cd8d9",
    "collapsed": false,
    "execution": {
     "iopub.status.busy": "2022-01-16T13:44:09.711689Z",
     "iopub.execute_input": "2022-01-16T13:44:09.71218Z",
     "iopub.status.idle": "2022-01-16T13:44:09.857162Z",
     "shell.execute_reply.started": "2022-01-16T13:44:09.712144Z",
     "shell.execute_reply": "2022-01-16T13:44:09.856226Z"
    },
    "jupyter": {
     "outputs_hidden": false
    },
    "trusted": true
   },
   "execution_count": null,
   "outputs": []
  },
  {
   "cell_type": "code",
   "source": "ggf = GammaGammaFitter(penalizer_coef=0.01)\n\nggf.fit(cltv_df['frequency'], cltv_df['monetary'])\n\ncltv_df[\"expected_average_profit\"] = ggf.conditional_expected_average_profit(cltv_df['frequency'],\n                                                                             cltv_df['monetary'])",
   "metadata": {
    "_uuid": "a90f8e6a-c67a-445c-a182-58691233daa9",
    "_cell_guid": "bed8d52c-7d7e-472a-b35c-72d93759d46d",
    "collapsed": false,
    "execution": {
     "iopub.status.busy": "2022-01-16T13:51:16.959193Z",
     "iopub.execute_input": "2022-01-16T13:51:16.959675Z",
     "iopub.status.idle": "2022-01-16T13:51:17.025183Z",
     "shell.execute_reply.started": "2022-01-16T13:51:16.959635Z",
     "shell.execute_reply": "2022-01-16T13:51:17.024188Z"
    },
    "jupyter": {
     "outputs_hidden": false
    },
    "trusted": true
   },
   "execution_count": null,
   "outputs": []
  },
  {
   "cell_type": "code",
   "source": "cltv = ggf.customer_lifetime_value(bgf,\n                                   cltv_df['frequency'],\n                                   cltv_df['recency'],\n                                   cltv_df['T'],\n                                   cltv_df['monetary'],\n                                   time=6,  # 6 aylık\n                                   freq=\"W\",  # T'nin frekans bilgisi.\n                                   discount_rate=0.01)",
   "metadata": {
    "_uuid": "e0110239-9ca4-49d7-8be3-7fad3666e395",
    "_cell_guid": "c9fe74fb-bfd5-4353-9305-ddd01cca88eb",
    "collapsed": false,
    "execution": {
     "iopub.status.busy": "2022-01-16T13:51:53.25522Z",
     "iopub.execute_input": "2022-01-16T13:51:53.255645Z",
     "iopub.status.idle": "2022-01-16T13:51:53.351601Z",
     "shell.execute_reply.started": "2022-01-16T13:51:53.255608Z",
     "shell.execute_reply": "2022-01-16T13:51:53.35048Z"
    },
    "jupyter": {
     "outputs_hidden": false
    },
    "trusted": true
   },
   "execution_count": null,
   "outputs": []
  },
  {
   "cell_type": "code",
   "source": "cltv = cltv.reset_index()\n\ncltv_final = cltv_df.merge(cltv, on=\"Customer ID\", how=\"left\")\n\nscaler = MinMaxScaler(feature_range=(0, 1))\nscaler.fit(cltv_final[[\"clv\"]])\ncltv_final[\"scaled_clv\"] = scaler.transform(cltv_final[[\"clv\"]])\n\ncltv_final.sort_values(by=\"scaled_clv\", ascending=False).head()",
   "metadata": {
    "_uuid": "b15c9bd7-aec1-4344-8962-06b837e098c6",
    "_cell_guid": "e49eb5c3-dbb9-439e-ac18-9dc7cff77a29",
    "collapsed": false,
    "execution": {
     "iopub.status.busy": "2022-01-16T13:53:24.398676Z",
     "iopub.execute_input": "2022-01-16T13:53:24.399043Z",
     "iopub.status.idle": "2022-01-16T13:53:24.437162Z",
     "shell.execute_reply.started": "2022-01-16T13:53:24.399009Z",
     "shell.execute_reply": "2022-01-16T13:53:24.436174Z"
    },
    "jupyter": {
     "outputs_hidden": false
    },
    "trusted": true
   },
   "execution_count": null,
   "outputs": []
  },
  {
   "cell_type": "code",
   "source": "cltv_final[\"segment\"] = pd.qcut(cltv_final[\"scaled_clv\"], 4, labels=[\"D\", \"C\", \"B\", \"A\"])\n\ncltv_final.sort_values(by=\"scaled_clv\", ascending=False).head(50)\n\ncltv_final.head()",
   "metadata": {
    "_uuid": "af3ca125-a47d-47f1-9fc2-870ee8e8bad8",
    "_cell_guid": "26917d61-81e3-4755-978b-96596318309b",
    "collapsed": false,
    "execution": {
     "iopub.status.busy": "2022-01-16T13:54:11.668819Z",
     "iopub.execute_input": "2022-01-16T13:54:11.669434Z",
     "iopub.status.idle": "2022-01-16T13:54:11.69014Z",
     "shell.execute_reply.started": "2022-01-16T13:54:11.669381Z",
     "shell.execute_reply": "2022-01-16T13:54:11.688947Z"
    },
    "jupyter": {
     "outputs_hidden": false
    },
    "trusted": true
   },
   "execution_count": null,
   "outputs": []
  },
  {
   "cell_type": "code",
   "source": "",
   "metadata": {
    "_uuid": "057a1ea5-fd60-46cf-b055-a32bf7c41928",
    "_cell_guid": "36db97f3-c676-40dc-9ad8-41fcca121ac6",
    "collapsed": false,
    "jupyter": {
     "outputs_hidden": false
    },
    "trusted": true
   },
   "execution_count": null,
   "outputs": []
  }
 ]
}